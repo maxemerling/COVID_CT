{
 "cells": [
  {
   "cell_type": "markdown",
   "metadata": {},
   "source": [
    "### Summary of Results When Combining CT Scan with RT-PCR (Given Sensitivity and Specificity)"
   ]
  },
  {
   "cell_type": "code",
   "execution_count": 387,
   "metadata": {},
   "outputs": [],
   "source": [
    "\"\"\"\n",
    "This function uses Bayes's law to return P(A|B) given P(A), P(B), P(Ac|Bc),\n",
    "where event Xc denotes the complement of event X.\n",
    "\"\"\"\n",
    "def A_given_B(A, B_given_A, Bc_given_Ac):\n",
    "    return (B_given_A * A) / (B_given_A * A + complement(Bc_given_Ac) * complement(A))\n",
    "\n",
    "\"\"\"Gives the probability of the complement of event A\"\"\"\n",
    "def complement(X):\n",
    "    return 1 - X"
   ]
  },
  {
   "cell_type": "markdown",
   "metadata": {},
   "source": [
    "**I'll denote sensitivity by \"tp\" (true positive) and specificity by \"tn\" (true negative). Fill in the following dictionaries with the sensitivity value and specificity range (low, high) for each test.**    \n",
    "*Note: the true positive rate (sensitivity) is the probability that the test is positive given that the patient has the disease. Likewise, the true negative rate (specificity) is the probability that the test comes back negative given that the patient is healthy.*"
   ]
  },
  {
   "cell_type": "code",
   "execution_count": 388,
   "metadata": {},
   "outputs": [],
   "source": [
    "\"\"\"All rates must be in the range [0, 1]\"\"\"\n",
    "\n",
    "# sensitivity and specificity for RT_PCR test\n",
    "RT_PCR = {'name': 'RT-PCR', 'tp': 0.99, 'tn': (0.80, 0.99)}\n",
    "\n",
    "# sensitivity and specificity for CT Scan test\n",
    "CT = {'name': 'CT-Scan', 'tp': 0.70, 'tn': (0.80, 0.99)}"
   ]
  },
  {
   "cell_type": "markdown",
   "metadata": {},
   "source": [
    "## Calculating Probabilities Using Different Tests\n",
    "*For the following cells, let A := P(patient is infected), Ac := P(patient is not infected), B := P(test comes back positive), and Bc := P(test comes back negative)*"
   ]
  },
  {
   "cell_type": "code",
   "execution_count": 389,
   "metadata": {},
   "outputs": [],
   "source": [
    "# Fill in the estimated percentage of infected people in the desired population\n",
    "# Must be in the range [0, 1]\n",
    "A = .05 #0.29\n",
    "# this number is taken from a worst-case peak estimate in\n",
    "# https://www.nytimes.com/2020/03/13/us/coronavirus-deaths-estimate.html"
   ]
  },
  {
   "cell_type": "code",
   "execution_count": 390,
   "metadata": {},
   "outputs": [],
   "source": [
    "\"\"\"\n",
    "Returns the probability range that a patient is infected given that TEST comes back positive\n",
    "\"\"\"\n",
    "def infected_range(test):\n",
    "    return (\n",
    "        A_given_B(A, test['tp'], test['tn'][0]), \n",
    "        A_given_B(A, test['tp'], test['tn'][1])\n",
    "    )\n",
    "\n",
    "\"\"\"\n",
    "Returns the probability range that a patient is healthy given that TEST comes back negative\n",
    "\"\"\"\n",
    "def healthy_range(test):\n",
    "    return (\n",
    "        A_given_B(complement(A), test['tn'][0], test['tp']), \n",
    "        A_given_B(complement(A), test['tn'][1], test['tp'])\n",
    "    )\n",
    "\n",
    "\"\"\"\n",
    "Finds the probability that the test returns a false positive or a false negative.\n",
    "Given our definitions of A and B, this means finding P(A⋂Bc) + P(Ac⋂B)\n",
    "\"\"\"\n",
    "def error_range(test):\n",
    "    fn = A*complement(test['tp'])\n",
    "    fp = (complement(A) * complement(test['tn'][0]),\n",
    "          complement(A) * complement(test['tn'][1]))\n",
    "    return (fn + fp[0], fn + fp[1])"
   ]
  },
  {
   "cell_type": "code",
   "execution_count": 391,
   "metadata": {},
   "outputs": [],
   "source": [
    "\"\"\"\n",
    "Function to evaluate and print the results of TEST.\n",
    "\"\"\"\n",
    "def evaluate(test):\n",
    "    name = test['name']\n",
    "    \n",
    "    infected = infected_range(test)\n",
    "    print(\"Probability of infection given positive {0} result ranges from {1} to {2}\".format(\n",
    "        name, infected[0], infected[1]))\n",
    "    \n",
    "    healthy = healthy_range(test)\n",
    "    print(\"Probability of no infection given negative {0} result ranges from {1} to {2}\".format(\n",
    "        name, healthy[0], healthy[1]))\n",
    "    \n",
    "    error = error_range(test)\n",
    "    print(\"Probability that {0} errors ranges from {1} to {2}\".format(name, error[0], error[1]))"
   ]
  },
  {
   "cell_type": "markdown",
   "metadata": {},
   "source": [
    "**Probability of each case using one RT_PCR Test**"
   ]
  },
  {
   "cell_type": "code",
   "execution_count": 392,
   "metadata": {
    "scrolled": true
   },
   "outputs": [
    {
     "name": "stdout",
     "output_type": "stream",
     "text": [
      "Probability of infection given positive RT-PCR result ranges from 0.2066805845511483 to 0.8389830508474575\n",
      "Probability of no infection given negative RT-PCR result ranges from 0.9993425378040762 to 0.9994686503719447\n",
      "Probability that RT-PCR errors ranges from 0.19049999999999995 to 0.010000000000000009\n"
     ]
    }
   ],
   "source": [
    "evaluate(RT_PCR)"
   ]
  },
  {
   "cell_type": "markdown",
   "metadata": {},
   "source": [
    "**Probability of each case using one CT Scan Test**"
   ]
  },
  {
   "cell_type": "code",
   "execution_count": 393,
   "metadata": {},
   "outputs": [
    {
     "name": "stdout",
     "output_type": "stream",
     "text": [
      "Probability of infection given positive CT-Scan result ranges from 0.15555555555555559 to 0.7865168539325841\n",
      "Probability of no infection given negative CT-Scan result ranges from 0.9806451612903225 to 0.9843014128728415\n",
      "Probability that CT-Scan errors ranges from 0.20499999999999996 to 0.02450000000000001\n"
     ]
    }
   ],
   "source": [
    "evaluate(CT)"
   ]
  },
  {
   "cell_type": "markdown",
   "metadata": {},
   "source": [
    "## Now, let's calculate similar probabilities if we perform a CT scan directly after an RT-PCR\n",
    "**Note that in this scenario, if we wish to deal with multiple tests, then we must assume they're independent (conditioned on A). Otherwise we would need to know their fp/tn rates given that previous tests came back positive or negative.**"
   ]
  },
  {
   "cell_type": "code",
   "execution_count": 394,
   "metadata": {},
   "outputs": [],
   "source": [
    "import numpy as np"
   ]
  },
  {
   "cell_type": "code",
   "execution_count": 395,
   "metadata": {},
   "outputs": [],
   "source": [
    "\"\"\"\n",
    "- This function takes a list of tuples, each formatted as (test, positive), where positive is a boolean that\n",
    "    is true iff the test returns positive.\n",
    "- Also takes argument A, the percentage of people in the population who are infected.\n",
    "- It evaluates assuming all tests are independent conditioned on whether or\n",
    "    not the patient is infected.\n",
    "- Applies the first test in the argument list first, and then moves sequentially towards the end.\n",
    "- Returns the probability that the patient is infected given the test results\n",
    "\"\"\"\n",
    "def range_multi(A, tests):\n",
    "    tests_and_A = A\n",
    "    \n",
    "    # maintain max index as 0 index since we will be taking reciproval\n",
    "    tests_and_Ac = np.ones(2) * complement(A)\n",
    "    for test, positive in tests:\n",
    "        tn = np.array(test['tn'])\n",
    "        \n",
    "        if positive:\n",
    "            # taking complement of tn causes 0 index to be greater\n",
    "            test_val, test_complement = test['tp'], complement(tn)\n",
    "        else:\n",
    "            # flip tn so that 0 index is greater\n",
    "            test_val, test_complement = complement(test['tp']), np.flip(tn)\n",
    "            \n",
    "        tests_and_A *= test_val\n",
    "        \n",
    "        # element-wise multiplication\n",
    "        tests_and_Ac = np.multiply(tests_and_Ac, test_complement)\n",
    "    \n",
    "    return tests_and_A / (tests_and_A + tests_and_Ac)"
   ]
  },
  {
   "cell_type": "markdown",
   "metadata": {},
   "source": [
    "**Let's also make a function to display the results on a graph**"
   ]
  },
  {
   "cell_type": "code",
   "execution_count": 396,
   "metadata": {},
   "outputs": [],
   "source": [
    "%matplotlib inline\n",
    "import matplotlib.pyplot as plt"
   ]
  },
  {
   "cell_type": "code",
   "execution_count": 397,
   "metadata": {},
   "outputs": [],
   "source": [
    "\"\"\"\n",
    "Function to display a percentage range on the number line. pRange is a tuple (min, max) containing\n",
    "probabilities from 0 to 1.\n",
    "\"\"\"\n",
    "def show(pRange):\n",
    "    # set up the figure\n",
    "    fig = plt.figure()\n",
    "    ax = fig.add_subplot(111)\n",
    "    ax.set_xlim(0,10)\n",
    "    ax.set_ylim(0,10)\n",
    "\n",
    "    # draw lines\n",
    "    xmin = 0\n",
    "    xmax = 10\n",
    "    y = 5\n",
    "    height = 1\n",
    "\n",
    "    plt.hlines(y, xmin, xmax)\n",
    "    plt.vlines(xmin, y - height / 2., y + height / 2.)\n",
    "    plt.vlines(xmax, y - height / 2., y + height / 2.)\n",
    "\n",
    "    # draw a point on the line\n",
    "    xMin = pRange[0] * 10\n",
    "    plt.plot(xMin,y, 'ro', ms = 10, mfc = 'r')\n",
    "\n",
    "    xMax = pRange[1] * 10\n",
    "    plt.plot(xMax,y, 'ro', ms = 10, mfc = 'r')\n",
    "\n",
    "    plt.plot([xMin, xMax], [y, y], 'r')\n",
    "\n",
    "    # add an arrow\n",
    "    plt.annotate(\"{0:.2f}%\".format(xMin*10), (xMin,y), xytext = (xMin - 1, y + 2), \n",
    "                  arrowprops=dict(facecolor='black', shrink=0.1), \n",
    "                  horizontalalignment='left')\n",
    "    plt.annotate(\"{0:.2f}%\".format(xMax*10), (xMax, y), xytext = (xMax + 1, y + 2),\n",
    "                arrowprops=dict(facecolor='black', shrink=0.1), \n",
    "                  horizontalalignment='right')\n",
    "\n",
    "    # add numbers\n",
    "    plt.text(xmin - 0.1, y, '0%', horizontalalignment='right')\n",
    "    plt.text(xmax + 0.1, y, '100%', horizontalalignment='left')\n",
    "\n",
    "    plt.axis('off')\n",
    "    plt.show()"
   ]
  },
  {
   "cell_type": "markdown",
   "metadata": {},
   "source": [
    "**Using this function, we can display the updated probability of infection given a positive RT-PCR result and a positive CT Scan result.**"
   ]
  },
  {
   "cell_type": "code",
   "execution_count": 398,
   "metadata": {},
   "outputs": [
    {
     "name": "stdout",
     "output_type": "stream",
     "text": [
      "The probability of infection given a True RT-PCR result and a True CT-Scan result is between 0.4769 and 0.9973\n"
     ]
    },
    {
     "data": {
      "image/png": "[encoded data removed]",
      "text/plain": [
       "<Figure size 432x288 with 1 Axes>"
      ]
     },
     "metadata": {
      "needs_background": "light"
     },
     "output_type": "display_data"
    }
   ],
   "source": [
    "# Positive RT-PCR result and positive CT result\n",
    "tests = [(RT_PCR, True), (CT, True)]\n",
    "pRange = range_multi(A, tests)\n",
    "\n",
    "print(\"The probability of infection given a {0} {1} result and a {2} {3} result is between {4:.4f} and {5:.4f}\".format(\n",
    "    tests[0][1], tests[0][0]['name'], tests[1][1], tests[1][0]['name'], pRange[0], pRange[1]))\n",
    "\n",
    "show(pRange)"
   ]
  },
  {
   "cell_type": "markdown",
   "metadata": {},
   "source": [
    "# Interactive\n",
    "\n",
    "**Let's introduce an interactive component so we can choose which tests to use, as well as their sentitivity and specificity.**  \n",
    "The following two cells are setup."
   ]
  },
  {
   "cell_type": "code",
   "execution_count": 399,
   "metadata": {},
   "outputs": [],
   "source": [
    "import ipywidgets as widgets\n",
    "from ipywidgets import interactive, interact\n",
    "from IPython.display import display"
   ]
  },
  {
   "cell_type": "code",
   "execution_count": 400,
   "metadata": {},
   "outputs": [],
   "source": [
    "\"\"\"\n",
    "This function generates sliders and check boxes for each test in the given selection, and displays\n",
    "the testing results on a number line.\n",
    "\"\"\"\n",
    "def selection_test(selection):\n",
    "    \n",
    "    \"\"\"\n",
    "    Kwargs are a list of unpacked tests: positive, sensitivity, specificity\n",
    "        - passed is a boolean denoting whether or not the test was positive\n",
    "        - sentitivity is a percentage (0 to 100)\n",
    "        - specificity is a percentage range\n",
    "    Each test needs these 3 values.\n",
    "    \"\"\"\n",
    "    def interactive_func(A, **kwargs):\n",
    "        \n",
    "        tests = []\n",
    "        i = 0\n",
    "        for name in selection.value:\n",
    "            test = {'name':name}\n",
    "            pos = kwargs['arg{}'.format(i)]\n",
    "            test['tp'] = kwargs['arg{}'.format(i + 1)] / 100\n",
    "            test['tn'] = np.array(kwargs['arg{}'.format(i + 2)]) / 100\n",
    "            tests.append((test, pos))\n",
    "            i+=3\n",
    "        \n",
    "        pRange = range_multi(A / 100, tests)\n",
    "        show(pRange)\n",
    "            \n",
    "    \n",
    "    A_slider = widgets.FloatSlider(\n",
    "        value=A*100,\n",
    "        min=0,\n",
    "        max=100.0,\n",
    "        step=0.01,\n",
    "        description='% Infected',\n",
    "        disabled=False,\n",
    "        indent=False,\n",
    "        continuous_update=False,\n",
    "        orientation='horizontal',\n",
    "        readout=True,\n",
    "        readout_format='.2f',\n",
    "    )\n",
    "    \n",
    "    arguments = {}\n",
    "    i = 0\n",
    "    for name in selection.value:\n",
    "        arguments['arg{}'.format(i)] = widgets.Checkbox(value=True, description=name, indent=False)\n",
    "        if (i // 3) % 2:\n",
    "            ref = CT\n",
    "        else:\n",
    "            ref = RT_PCR\n",
    "        \n",
    "        arguments['arg{}'.format(i + 1)] = widgets.FloatSlider(\n",
    "            value=ref['tp']*100, min=0, max=100.0, step=0.01,\n",
    "            description='sensitivity',\n",
    "            disabled=False,\n",
    "            continuous_update=False,\n",
    "            orientation='horizontal',\n",
    "            readout=True,\n",
    "            readout_format='.2f',\n",
    "        )\n",
    "        \n",
    "        arguments['arg{}'.format(i + 2)] = widgets.FloatRangeSlider(\n",
    "            value=[ref['tn'][0]*100, ref['tn'][1]*100], \n",
    "            min=0, max=100.0, step=0.01,\n",
    "            description='specificity',\n",
    "            disabled=False,\n",
    "            continuous_update=False,\n",
    "            orientation='horizontal',\n",
    "            readout=True,\n",
    "            readout_format='.2f',\n",
    "        )\n",
    "        \n",
    "        i += 3\n",
    "        \n",
    "    return interactive_func, A_slider, arguments"
   ]
  },
  {
   "cell_type": "markdown",
   "metadata": {},
   "source": [
    "**The following cell allows you to choose which tests to perform. Use Cmd+Click to select multiple.**  \n",
    "Note that \"RT-PCR 2\" is a second RT-PCR test performed 3 days later."
   ]
  },
  {
   "cell_type": "code",
   "execution_count": 401,
   "metadata": {
    "scrolled": true
   },
   "outputs": [
    {
     "data": {
      "application/vnd.jupyter.widget-view+json": {
       "model_id": "0dbdde5bb375442ca825ad62e6a34cd6",
       "version_major": 2,
       "version_minor": 0
      },
      "text/plain": [
       "SelectMultiple(description='Tests', index=(0, 1), options=('RT-PCR 1', 'CT', 'RT-PCR 2'), value=('RT-PCR 1', '…"
      ]
     },
     "metadata": {},
     "output_type": "display_data"
    }
   ],
   "source": [
    "selection = widgets.SelectMultiple(\n",
    "    options=['RT-PCR 1', 'CT', 'RT-PCR 2'],\n",
    "    value=selection.value,\n",
    "    description='Tests',\n",
    ")\n",
    "display(selection)"
   ]
  },
  {
   "cell_type": "markdown",
   "metadata": {},
   "source": [
    "**Run the following cell to generate the testing module. The check box next to each test indicates whether the test returned positive or negative (checked is positive). The sliders dictate the sensitivity and specificity for each test. After setting the sliders and the check boxes, click \"run interact\" to generate the number line. The range on the number line represents the probability range that a patient is infected given the test results.**"
   ]
  },
  {
   "cell_type": "code",
   "execution_count": 402,
   "metadata": {
    "scrolled": true
   },
   "outputs": [
    {
     "data": {
      "application/vnd.jupyter.widget-view+json": {
       "model_id": "6c307e1c1b664eddb05035d59ff245c1",
       "version_major": 2,
       "version_minor": 0
      },
      "text/plain": [
       "interactive(children=(FloatSlider(value=5.0, continuous_update=False, description='% Infected', step=0.01), Ch…"
      ]
     },
     "metadata": {},
     "output_type": "display_data"
    }
   ],
   "source": [
    "interactive_func, A_slider, arguments = selection_test(selection)\n",
    "interactive_plot = interactive(interactive_func, {'manual': True}, A=A_slider, **arguments)\n",
    "output = interactive_plot.children[-1]\n",
    "output.layout.height = '500px'\n",
    "interactive_plot"
   ]
  },
  {
   "cell_type": "code",
   "execution_count": null,
   "metadata": {},
   "outputs": [],
   "source": []
  }
 ],
 "metadata": {
  "kernelspec": {
   "display_name": "base",
   "language": "python",
   "name": "base"
  },
  "language_info": {
   "codemirror_mode": {
    "name": "ipython",
    "version": 3
   },
   "file_extension": ".py",
   "mimetype": "text/x-python",
   "name": "python",
   "nbconvert_exporter": "python",
   "pygments_lexer": "ipython3",
   "version": "3.7.4"
  }
 },
 "nbformat": 4,
 "nbformat_minor": 2
}
