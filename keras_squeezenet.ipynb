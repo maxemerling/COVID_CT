{
 "cells": [
  {
   "cell_type": "code",
   "execution_count": 42,
   "metadata": {
    "scrolled": true
   },
   "outputs": [],
   "source": [
    "from keras.models import Model\n",
    "from keras.layers import Input, Convolution2D, Activation, MaxPooling2D, GlobalAveragePooling2D, Dropout, concatenate, add\n",
    "from keras.utils import get_file"
   ]
  },
  {
   "cell_type": "code",
   "execution_count": 43,
   "metadata": {},
   "outputs": [],
   "source": [
    "\"\"\"\n",
    "Adapted from https://github.com/rcmalli/keras-squeezenet/blob/master/keras_squeezenet/squeezenet.py\n",
    "\"\"\"\n",
    "\n",
    "WEIGHTS_PATH_NO_TOP = \"https://github.com/rcmalli/keras-squeezenet/releases/download/v1.0/squeezenet_weights_tf_dim_ordering_tf_kernels_notop.h5\""
   ]
  },
  {
   "cell_type": "code",
   "execution_count": 44,
   "metadata": {},
   "outputs": [],
   "source": [
    "def fire_module(x, fire_id, squeeze=16, expand=64):\n",
    "    fire_id = 'fire' + str(fire_id) + '/'\n",
    "    x = Convolution2D(squeeze, (1, 1), padding='valid', name=fire_id + 'squeeze1x1')(x)\n",
    "    x = Activation('relu', name=fire_id + 'relu_squeeze1x1')(x)\n",
    "    \n",
    "    left = Convolution2D(expand, (1, 1), padding='valid', name=fire_id + 'expand1x1')(x)\n",
    "    left = Activation('relu', name=fire_id + 'relu_expand1x1')(left)\n",
    " \n",
    "    right = Convolution2D(expand, (3, 3), padding='same', name=fire_id + 'expand3x3')(x)\n",
    "    right = Activation('relu', name=fire_id + 'relu_expand3x3')(right)\n",
    " \n",
    "    x = concatenate([left, right], axis=3, name=fire_id + 'concat')\n",
    "    \n",
    "    return x"
   ]
  },
  {
   "cell_type": "code",
   "execution_count": 45,
   "metadata": {},
   "outputs": [],
   "source": [
    "def simple_add(from_layer, to_layer):\n",
    "    return add([from_layer, to_layer])"
   ]
  },
  {
   "cell_type": "code",
   "execution_count": 51,
   "metadata": {},
   "outputs": [],
   "source": [
    "def channels(layer):\n",
    "    return layer.shape[3]\n",
    "\n",
    "def complex_add(complex_id, from_layer, to_layer):\n",
    "    complex_id = 'complex' + str(complex_id)\n",
    "    from_layer = Convolution2D(channels(to_layer), (1, 1), padding='same', name=complex_id)(from_layer)\n",
    "    from_layer = Activation('relu', name='relu_' + complex_id)(from_layer)\n",
    "    return simple_add(from_layer, to_layer)"
   ]
  },
  {
   "cell_type": "code",
   "execution_count": 57,
   "metadata": {},
   "outputs": [],
   "source": [
    "\"\"\"\n",
    "Note: \n",
    "\"\"\"\n",
    "def SqueezeNet(input_shape, weights='imagenet', bypass=None):\n",
    "    \n",
    "    if weights not in {None, 'imagenet', 'base_model'}:\n",
    "        raise ValueError('Unknown `weights` argument')\n",
    "    \n",
    "    if bypass == 'simple':\n",
    "        simple = True\n",
    "        complex = False\n",
    "    elif bypass == 'complex':\n",
    "        simple = complex = True\n",
    "    elif bypass == None:\n",
    "        simple = complex = False\n",
    "    else:\n",
    "        raise ValueError('Unknown `bypass` argument')\n",
    "    \n",
    "    inputs = Input(shape=input_shape)\n",
    "    \n",
    "    x = Convolution2D(64, (3, 3), strides=(2, 2), padding='valid', name='conv1')(inputs)\n",
    "    x = Activation('relu', name='relu_conv1')(x)\n",
    "    c = MaxPooling2D(pool_size=(3, 3), strides=(2, 2), name='pool1')(x)\n",
    "\n",
    "    s = fire_module(c, fire_id=2, squeeze=16, expand=64)\n",
    "    if complex:\n",
    "        s = complex_add(1, c, s)\n",
    "    c = fire_module(s, fire_id=3, squeeze=16, expand=64)\n",
    "    if simple:\n",
    "        c = simple_add(s, c)\n",
    "    x = fire_module(c, fire_id=4, squeeze=32, expand=128)\n",
    "    if complex:\n",
    "        x = complex_add(2, c, x)\n",
    "    s = MaxPooling2D(pool_size=(3, 3), strides=(2, 2), name='pool3')(x)\n",
    "    \n",
    "    c = fire_module(s, fire_id=5, squeeze=32, expand=128)\n",
    "    if simple:\n",
    "        c = simple_add(s, c)\n",
    "    s = fire_module(c, fire_id=6, squeeze=48, expand=192)\n",
    "    if complex:\n",
    "        s = complex_add(3, c, s)\n",
    "    c = fire_module(s, fire_id=7, squeeze=48, expand=192)\n",
    "    if simple:\n",
    "        c = simple_add(s, c)\n",
    "    x = fire_module(c, fire_id=8, squeeze=64, expand=256)\n",
    "    if complex:\n",
    "        x = complex_add(4, c, x)\n",
    "    s = MaxPooling2D(pool_size=(3, 3), strides=(2, 2), name='pool5')(x)\n",
    "    \n",
    "    x = fire_module(s, fire_id=9, squeeze=64, expand=256)\n",
    "    if simple:\n",
    "        x = simple_add(s, x)\n",
    "\n",
    "    model = Model(inputs, x, name='squeezenet')\n",
    "    \n",
    "    if weights == 'base_model':\n",
    "        weights_path = 'base_model.h5'\n",
    "    elif weights == 'imagenet':\n",
    "        weights_path = get_file('squeezenet_weights_tf_dim_ordering_tf_kernels_notop.h5',\n",
    "                                    WEIGHTS_PATH_NO_TOP,\n",
    "                                    cache_subdir='models')\n",
    "        model.load_weights(weights_path)\n",
    "    \n",
    "    \n",
    "    return model"
   ]
  },
  {
   "cell_type": "code",
   "execution_count": 58,
   "metadata": {},
   "outputs": [],
   "source": [
    "import os\n",
    "\n",
    "def download_weights():\n",
    "    get_file(os.path.abspath('base_model.h5'), WEIGHTS_PATH_NO_TOP)"
   ]
  },
  {
   "cell_type": "code",
   "execution_count": 59,
   "metadata": {},
   "outputs": [],
   "source": [
    "download_weights()"
   ]
  },
  {
   "cell_type": "code",
   "execution_count": 60,
   "metadata": {},
   "outputs": [
    {
     "data": {
      "text/plain": [
       "<keras.engine.training.Model at 0x156c4cf50>"
      ]
     },
     "execution_count": 60,
     "metadata": {},
     "output_type": "execute_result"
    }
   ],
   "source": [
    "SqueezeNet(input_shape=(224, 224, 3), weights='base_model', bypass='complex')"
   ]
  },
  {
   "cell_type": "code",
   "execution_count": null,
   "metadata": {},
   "outputs": [],
   "source": []
  }
 ],
 "metadata": {
  "kernelspec": {
   "display_name": "base",
   "language": "python",
   "name": "base"
  },
  "language_info": {
   "codemirror_mode": {
    "name": "ipython",
    "version": 3
   },
   "file_extension": ".py",
   "mimetype": "text/x-python",
   "name": "python",
   "nbconvert_exporter": "python",
   "pygments_lexer": "ipython3",
   "version": "3.7.4"
  }
 },
 "nbformat": 4,
 "nbformat_minor": 2
}
